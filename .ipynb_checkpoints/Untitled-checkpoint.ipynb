{
 "cells": [
  {
   "cell_type": "markdown",
   "id": "080593f7",
   "metadata": {},
   "source": [
    "# Booleans"
   ]
  },
  {
   "cell_type": "code",
   "execution_count": null,
   "id": "114db5c8",
   "metadata": {},
   "outputs": [],
   "source": [
    "True"
   ]
  },
  {
   "cell_type": "code",
   "execution_count": 1,
   "id": "6382362c",
   "metadata": {},
   "outputs": [
    {
     "data": {
      "text/plain": [
       "False"
      ]
     },
     "execution_count": 1,
     "metadata": {},
     "output_type": "execute_result"
    }
   ],
   "source": [
    "True == False"
   ]
  },
  {
   "cell_type": "code",
   "execution_count": 2,
   "id": "df772967",
   "metadata": {},
   "outputs": [
    {
     "data": {
      "text/plain": [
       "False"
      ]
     },
     "execution_count": 2,
     "metadata": {},
     "output_type": "execute_result"
    }
   ],
   "source": [
    "True and False"
   ]
  },
  {
   "cell_type": "code",
   "execution_count": 3,
   "id": "18d4a44f",
   "metadata": {},
   "outputs": [
    {
     "data": {
      "text/plain": [
       "False"
      ]
     },
     "execution_count": 3,
     "metadata": {},
     "output_type": "execute_result"
    }
   ],
   "source": [
    "True != True"
   ]
  },
  {
   "cell_type": "code",
   "execution_count": 4,
   "id": "995d6213",
   "metadata": {},
   "outputs": [
    {
     "data": {
      "text/plain": [
       "True"
      ]
     },
     "execution_count": 4,
     "metadata": {},
     "output_type": "execute_result"
    }
   ],
   "source": [
    "True"
   ]
  },
  {
   "cell_type": "code",
   "execution_count": 5,
   "id": "3e25cb49",
   "metadata": {},
   "outputs": [
    {
     "data": {
      "text/plain": [
       "True"
      ]
     },
     "execution_count": 5,
     "metadata": {},
     "output_type": "execute_result"
    }
   ],
   "source": [
    "False or True or False or True"
   ]
  },
  {
   "cell_type": "markdown",
   "id": "270d9407",
   "metadata": {},
   "source": [
    "# Variable Assignment"
   ]
  },
  {
   "cell_type": "code",
   "execution_count": 9,
   "id": "e7fc95d5",
   "metadata": {},
   "outputs": [],
   "source": [
    "x = 3"
   ]
  },
  {
   "cell_type": "code",
   "execution_count": 10,
   "id": "dbab51fc",
   "metadata": {},
   "outputs": [
    {
     "data": {
      "text/plain": [
       "False"
      ]
     },
     "execution_count": 10,
     "metadata": {},
     "output_type": "execute_result"
    }
   ],
   "source": [
    "'x' == 3"
   ]
  },
  {
   "cell_type": "code",
   "execution_count": 11,
   "id": "eec8b968",
   "metadata": {},
   "outputs": [
    {
     "ename": "NameError",
     "evalue": "name 'e' is not defined",
     "output_type": "error",
     "traceback": [
      "\u001b[0;31m---------------------------------------------------------------------------\u001b[0m",
      "\u001b[0;31mNameError\u001b[0m                                 Traceback (most recent call last)",
      "Input \u001b[0;32mIn [11]\u001b[0m, in \u001b[0;36m<cell line: 1>\u001b[0;34m()\u001b[0m\n\u001b[0;32m----> 1\u001b[0m x \u001b[38;5;241m==\u001b[39m \u001b[43me\u001b[49m\n",
      "\u001b[0;31mNameError\u001b[0m: name 'e' is not defined"
     ]
    }
   ],
   "source": [
    "x == e"
   ]
  },
  {
   "cell_type": "code",
   "execution_count": 12,
   "id": "3d1ab5b1",
   "metadata": {},
   "outputs": [
    {
     "data": {
      "text/plain": [
       "2.0"
      ]
     },
     "execution_count": 12,
     "metadata": {},
     "output_type": "execute_result"
    }
   ],
   "source": [
    "4 / 2"
   ]
  },
  {
   "cell_type": "code",
   "execution_count": 13,
   "id": "630b9a01",
   "metadata": {},
   "outputs": [
    {
     "data": {
      "text/plain": [
       "1"
      ]
     },
     "execution_count": 13,
     "metadata": {},
     "output_type": "execute_result"
    }
   ],
   "source": [
    "4 // 3"
   ]
  },
  {
   "cell_type": "code",
   "execution_count": 14,
   "id": "75953660",
   "metadata": {},
   "outputs": [
    {
     "data": {
      "text/plain": [
       "1"
      ]
     },
     "execution_count": 14,
     "metadata": {},
     "output_type": "execute_result"
    }
   ],
   "source": [
    "5 % 2"
   ]
  },
  {
   "cell_type": "code",
   "execution_count": 15,
   "id": "244d518a",
   "metadata": {},
   "outputs": [
    {
     "data": {
      "text/plain": [
       "3"
      ]
     },
     "execution_count": 15,
     "metadata": {},
     "output_type": "execute_result"
    }
   ],
   "source": [
    "x "
   ]
  },
  {
   "cell_type": "code",
   "execution_count": 16,
   "id": "25df3a3d",
   "metadata": {},
   "outputs": [],
   "source": [
    "y = x + 1"
   ]
  },
  {
   "cell_type": "code",
   "execution_count": 17,
   "id": "62e18b8c",
   "metadata": {},
   "outputs": [
    {
     "data": {
      "text/plain": [
       "2"
      ]
     },
     "execution_count": 17,
     "metadata": {},
     "output_type": "execute_result"
    }
   ],
   "source": [
    "int(2.0)"
   ]
  },
  {
   "cell_type": "code",
   "execution_count": 18,
   "id": "6b2abac4",
   "metadata": {},
   "outputs": [
    {
     "data": {
      "text/plain": [
       "False"
      ]
     },
     "execution_count": 18,
     "metadata": {},
     "output_type": "execute_result"
    }
   ],
   "source": [
    "bool(0)"
   ]
  },
  {
   "cell_type": "code",
   "execution_count": 19,
   "id": "27b41595",
   "metadata": {},
   "outputs": [
    {
     "data": {
      "text/plain": [
       "True"
      ]
     },
     "execution_count": 19,
     "metadata": {},
     "output_type": "execute_result"
    }
   ],
   "source": [
    "bool(1)"
   ]
  },
  {
   "cell_type": "code",
   "execution_count": 20,
   "id": "648c0b65",
   "metadata": {},
   "outputs": [
    {
     "data": {
      "text/plain": [
       "True"
      ]
     },
     "execution_count": 20,
     "metadata": {},
     "output_type": "execute_result"
    }
   ],
   "source": [
    "bool(-1)"
   ]
  },
  {
   "cell_type": "code",
   "execution_count": 21,
   "id": "9eace401",
   "metadata": {},
   "outputs": [
    {
     "data": {
      "text/plain": [
       "False"
      ]
     },
     "execution_count": 21,
     "metadata": {},
     "output_type": "execute_result"
    }
   ],
   "source": [
    "bool(0)"
   ]
  },
  {
   "cell_type": "code",
   "execution_count": 22,
   "id": "3a1d1d86",
   "metadata": {},
   "outputs": [
    {
     "data": {
      "text/plain": [
       "True"
      ]
     },
     "execution_count": 22,
     "metadata": {},
     "output_type": "execute_result"
    }
   ],
   "source": [
    "bool(100)"
   ]
  },
  {
   "cell_type": "code",
   "execution_count": 23,
   "id": "41a7ad09",
   "metadata": {},
   "outputs": [
    {
     "data": {
      "text/plain": [
       "18"
      ]
     },
     "execution_count": 23,
     "metadata": {},
     "output_type": "execute_result"
    }
   ],
   "source": [
    "9 * 2"
   ]
  },
  {
   "cell_type": "code",
   "execution_count": 24,
   "id": "0cf1decb",
   "metadata": {},
   "outputs": [
    {
     "data": {
      "text/plain": [
       "81"
      ]
     },
     "execution_count": 24,
     "metadata": {},
     "output_type": "execute_result"
    }
   ],
   "source": [
    "9 ** 2"
   ]
  },
  {
   "cell_type": "code",
   "execution_count": 25,
   "id": "18f95926",
   "metadata": {},
   "outputs": [
    {
     "data": {
      "text/plain": [
       "True"
      ]
     },
     "execution_count": 25,
     "metadata": {},
     "output_type": "execute_result"
    }
   ],
   "source": [
    "9 > 2"
   ]
  },
  {
   "cell_type": "code",
   "execution_count": 26,
   "id": "01e0951b",
   "metadata": {},
   "outputs": [
    {
     "data": {
      "text/plain": [
       "True"
      ]
     },
     "execution_count": 26,
     "metadata": {},
     "output_type": "execute_result"
    }
   ],
   "source": [
    "9 >= 9"
   ]
  },
  {
   "cell_type": "code",
   "execution_count": 27,
   "id": "688ff681",
   "metadata": {},
   "outputs": [
    {
     "data": {
      "text/plain": [
       "True"
      ]
     },
     "execution_count": 27,
     "metadata": {},
     "output_type": "execute_result"
    }
   ],
   "source": [
    "9 != 3"
   ]
  },
  {
   "cell_type": "code",
   "execution_count": 28,
   "id": "b2af519f",
   "metadata": {},
   "outputs": [
    {
     "data": {
      "text/plain": [
       "False"
      ]
     },
     "execution_count": 28,
     "metadata": {},
     "output_type": "execute_result"
    }
   ],
   "source": [
    "9 < 1"
   ]
  },
  {
   "cell_type": "code",
   "execution_count": 29,
   "id": "af9324ec",
   "metadata": {},
   "outputs": [
    {
     "data": {
      "text/plain": [
       "True"
      ]
     },
     "execution_count": 29,
     "metadata": {},
     "output_type": "execute_result"
    }
   ],
   "source": [
    "9 > 1 or 8 + 3 == 5"
   ]
  },
  {
   "cell_type": "code",
   "execution_count": 31,
   "id": "a4c9600a",
   "metadata": {},
   "outputs": [
    {
     "data": {
      "text/plain": [
       "True"
      ]
     },
     "execution_count": 31,
     "metadata": {},
     "output_type": "execute_result"
    }
   ],
   "source": [
    "9 > 1 & 2 < 3"
   ]
  },
  {
   "cell_type": "code",
   "execution_count": 32,
   "id": "611b77f0",
   "metadata": {},
   "outputs": [
    {
     "data": {
      "text/plain": [
       "True"
      ]
     },
     "execution_count": 32,
     "metadata": {},
     "output_type": "execute_result"
    }
   ],
   "source": [
    "9 > 1 and 2 < 3"
   ]
  },
  {
   "cell_type": "code",
   "execution_count": 33,
   "id": "b468d3fa",
   "metadata": {},
   "outputs": [
    {
     "data": {
      "text/plain": [
       "False"
      ]
     },
     "execution_count": 33,
     "metadata": {},
     "output_type": "execute_result"
    }
   ],
   "source": [
    "0 < 1 & 0 < 2"
   ]
  },
  {
   "cell_type": "code",
   "execution_count": 34,
   "id": "27eef428",
   "metadata": {},
   "outputs": [
    {
     "data": {
      "text/plain": [
       "0.30000000000000004"
      ]
     },
     "execution_count": 34,
     "metadata": {},
     "output_type": "execute_result"
    }
   ],
   "source": [
    "0.1 + 0.2"
   ]
  },
  {
   "cell_type": "code",
   "execution_count": 35,
   "id": "be3e6ed3",
   "metadata": {},
   "outputs": [
    {
     "data": {
      "text/plain": [
       "False"
      ]
     },
     "execution_count": 35,
     "metadata": {},
     "output_type": "execute_result"
    }
   ],
   "source": [
    "0.1 + 0.2 == 0.3"
   ]
  },
  {
   "cell_type": "markdown",
   "id": "ec5460e9",
   "metadata": {},
   "source": [
    "# Assignments"
   ]
  },
  {
   "cell_type": "code",
   "execution_count": 36,
   "id": "315279e7",
   "metadata": {},
   "outputs": [
    {
     "data": {
      "text/plain": [
       "'abcdef'"
      ]
     },
     "execution_count": 36,
     "metadata": {},
     "output_type": "execute_result"
    }
   ],
   "source": [
    "'abc' + 'def'"
   ]
  },
  {
   "cell_type": "code",
   "execution_count": 37,
   "id": "5dce6b60",
   "metadata": {},
   "outputs": [
    {
     "data": {
      "text/plain": [
       "False"
      ]
     },
     "execution_count": 37,
     "metadata": {},
     "output_type": "execute_result"
    }
   ],
   "source": [
    "'hello' == 'world'"
   ]
  },
  {
   "cell_type": "code",
   "execution_count": 38,
   "id": "395db8e1",
   "metadata": {},
   "outputs": [
    {
     "ename": "TypeError",
     "evalue": "can only concatenate str (not \"int\") to str",
     "output_type": "error",
     "traceback": [
      "\u001b[0;31m---------------------------------------------------------------------------\u001b[0m",
      "\u001b[0;31mTypeError\u001b[0m                                 Traceback (most recent call last)",
      "Input \u001b[0;32mIn [38]\u001b[0m, in \u001b[0;36m<cell line: 1>\u001b[0;34m()\u001b[0m\n\u001b[0;32m----> 1\u001b[0m \u001b[38;5;124;43m'\u001b[39;49m\u001b[38;5;124;43m2\u001b[39;49m\u001b[38;5;124;43m'\u001b[39;49m\u001b[43m \u001b[49m\u001b[38;5;241;43m+\u001b[39;49m\u001b[43m \u001b[49m\u001b[38;5;241;43m1\u001b[39;49m\n",
      "\u001b[0;31mTypeError\u001b[0m: can only concatenate str (not \"int\") to str"
     ]
    }
   ],
   "source": [
    "'2' + 1"
   ]
  },
  {
   "cell_type": "code",
   "execution_count": 39,
   "id": "6003c47f",
   "metadata": {},
   "outputs": [
    {
     "data": {
      "text/plain": [
       "3"
      ]
     },
     "execution_count": 39,
     "metadata": {},
     "output_type": "execute_result"
    }
   ],
   "source": [
    "int('2') + 1"
   ]
  },
  {
   "cell_type": "code",
   "execution_count": 40,
   "id": "b7a7ddee",
   "metadata": {},
   "outputs": [
    {
     "data": {
      "text/plain": [
       "'2'"
      ]
     },
     "execution_count": 40,
     "metadata": {},
     "output_type": "execute_result"
    }
   ],
   "source": [
    "str(2)"
   ]
  },
  {
   "cell_type": "code",
   "execution_count": 41,
   "id": "b801061e",
   "metadata": {},
   "outputs": [],
   "source": [
    "pie = 3.14"
   ]
  },
  {
   "cell_type": "code",
   "execution_count": 42,
   "id": "51cfa222",
   "metadata": {},
   "outputs": [
    {
     "data": {
      "text/plain": [
       "4.140000000000001"
      ]
     },
     "execution_count": 42,
     "metadata": {},
     "output_type": "execute_result"
    }
   ],
   "source": [
    "pie + 1"
   ]
  },
  {
   "cell_type": "code",
   "execution_count": 43,
   "id": "13919eed",
   "metadata": {},
   "outputs": [
    {
     "data": {
      "text/plain": [
       "'21'"
      ]
     },
     "execution_count": 43,
     "metadata": {},
     "output_type": "execute_result"
    }
   ],
   "source": [
    "'2' + str(1)"
   ]
  },
  {
   "cell_type": "markdown",
   "id": "f1b21607",
   "metadata": {},
   "source": [
    "# String Formatting"
   ]
  },
  {
   "cell_type": "code",
   "execution_count": 44,
   "id": "d55c456b",
   "metadata": {},
   "outputs": [],
   "source": [
    "name = 'Andrew'"
   ]
  },
  {
   "cell_type": "code",
   "execution_count": 45,
   "id": "b6f35027",
   "metadata": {},
   "outputs": [
    {
     "data": {
      "text/plain": [
       "'Andrew'"
      ]
     },
     "execution_count": 45,
     "metadata": {},
     "output_type": "execute_result"
    }
   ],
   "source": [
    "name"
   ]
  },
  {
   "cell_type": "code",
   "execution_count": 46,
   "id": "8ea38436",
   "metadata": {},
   "outputs": [
    {
     "data": {
      "text/plain": [
       "'Hello Andrew'"
      ]
     },
     "execution_count": 46,
     "metadata": {},
     "output_type": "execute_result"
    }
   ],
   "source": [
    "'Hello %s' % (name)"
   ]
  },
  {
   "cell_type": "code",
   "execution_count": 47,
   "id": "6725fce3",
   "metadata": {},
   "outputs": [
    {
     "data": {
      "text/plain": [
       "'Hello Andrew, Keila, Jarred'"
      ]
     },
     "execution_count": 47,
     "metadata": {},
     "output_type": "execute_result"
    }
   ],
   "source": [
    "'Hello %s, %s, %s' % (name, 'Keila', 'Jarred')"
   ]
  },
  {
   "cell_type": "code",
   "execution_count": 48,
   "id": "41be99d8",
   "metadata": {},
   "outputs": [
    {
     "data": {
      "text/plain": [
       "'Hello Andrew, Keila, Jarred'"
      ]
     },
     "execution_count": 48,
     "metadata": {},
     "output_type": "execute_result"
    }
   ],
   "source": [
    "'Hello {}, {}, {}'.format(name, 'Keila', 'Jarred')"
   ]
  },
  {
   "cell_type": "code",
   "execution_count": 52,
   "id": "6cd65768",
   "metadata": {},
   "outputs": [
    {
     "data": {
      "text/plain": [
       "'Hello Andrew, keila, 1'"
      ]
     },
     "execution_count": 52,
     "metadata": {},
     "output_type": "execute_result"
    }
   ],
   "source": [
    "f\"Hello {name}, {'keila'}, {0+1}\""
   ]
  },
  {
   "cell_type": "code",
   "execution_count": 53,
   "id": "f0247a16",
   "metadata": {},
   "outputs": [
    {
     "data": {
      "text/plain": [
       "3"
      ]
     },
     "execution_count": 53,
     "metadata": {},
     "output_type": "execute_result"
    }
   ],
   "source": [
    "#This is a matthematical operation\n",
    "1+2"
   ]
  },
  {
   "cell_type": "code",
   "execution_count": 54,
   "id": "baef82ab",
   "metadata": {},
   "outputs": [],
   "source": [
    "greeting = 'Hello Pagel'.split()"
   ]
  },
  {
   "cell_type": "code",
   "execution_count": 55,
   "id": "e16f8098",
   "metadata": {},
   "outputs": [
    {
     "data": {
      "text/plain": [
       "['Hello', 'Pagel']"
      ]
     },
     "execution_count": 55,
     "metadata": {},
     "output_type": "execute_result"
    }
   ],
   "source": [
    "greeting"
   ]
  },
  {
   "cell_type": "code",
   "execution_count": 56,
   "id": "34cb97c6",
   "metadata": {},
   "outputs": [
    {
     "data": {
      "text/plain": [
       "'Hello Pagel'"
      ]
     },
     "execution_count": 56,
     "metadata": {},
     "output_type": "execute_result"
    }
   ],
   "source": [
    "' '.join(greeting)"
   ]
  },
  {
   "cell_type": "code",
   "execution_count": 58,
   "id": "57bfbd82",
   "metadata": {},
   "outputs": [
    {
     "data": {
      "text/plain": [
       "[1, 2, 3, 4, 5, 6, 7, 8, 9, 10]"
      ]
     },
     "execution_count": 58,
     "metadata": {},
     "output_type": "execute_result"
    }
   ],
   "source": [
    "list(range(1, 11))"
   ]
  },
  {
   "cell_type": "markdown",
   "id": "5d1c1b7d",
   "metadata": {},
   "source": [
    "# Lists"
   ]
  },
  {
   "cell_type": "code",
   "execution_count": 60,
   "id": "792ace4d",
   "metadata": {},
   "outputs": [
    {
     "data": {
      "text/plain": [
       "11"
      ]
     },
     "execution_count": 60,
     "metadata": {},
     "output_type": "execute_result"
    }
   ],
   "source": [
    "len('hello world')"
   ]
  },
  {
   "cell_type": "code",
   "execution_count": 61,
   "id": "efa16c96",
   "metadata": {},
   "outputs": [
    {
     "data": {
      "text/plain": [
       "2"
      ]
     },
     "execution_count": 61,
     "metadata": {},
     "output_type": "execute_result"
    }
   ],
   "source": [
    "len([[1,2,3], [4,5,6]])"
   ]
  },
  {
   "cell_type": "code",
   "execution_count": 62,
   "id": "0a9a73c8",
   "metadata": {},
   "outputs": [],
   "source": [
    "list_of_random_stuff = [1, 'hello', [1,2,3]]"
   ]
  },
  {
   "cell_type": "code",
   "execution_count": 63,
   "id": "29c9796c",
   "metadata": {},
   "outputs": [
    {
     "data": {
      "text/plain": [
       "list"
      ]
     },
     "execution_count": 63,
     "metadata": {},
     "output_type": "execute_result"
    }
   ],
   "source": [
    "type(list_of_random_stuff[2])"
   ]
  },
  {
   "cell_type": "code",
   "execution_count": 65,
   "id": "86037fb5",
   "metadata": {},
   "outputs": [
    {
     "data": {
      "text/plain": [
       "['1', '2', '3']"
      ]
     },
     "execution_count": 65,
     "metadata": {},
     "output_type": "execute_result"
    }
   ],
   "source": [
    "list(map(str, [1,2,3]))"
   ]
  },
  {
   "cell_type": "code",
   "execution_count": 66,
   "id": "33d07a4f",
   "metadata": {},
   "outputs": [
    {
     "data": {
      "text/plain": [
       "<map at 0x109872c10>"
      ]
     },
     "execution_count": 66,
     "metadata": {},
     "output_type": "execute_result"
    }
   ],
   "source": [
    "map(str, [1,2,3])"
   ]
  },
  {
   "cell_type": "markdown",
   "id": "44a4c813",
   "metadata": {},
   "source": [
    "# Tuples"
   ]
  },
  {
   "cell_type": "code",
   "execution_count": 67,
   "id": "8c0a3617",
   "metadata": {},
   "outputs": [],
   "source": [
    "tup_of_nums = (1,2,3)"
   ]
  },
  {
   "cell_type": "code",
   "execution_count": 68,
   "id": "9d8d9414",
   "metadata": {},
   "outputs": [
    {
     "data": {
      "text/plain": [
       "(1, 2, 3)"
      ]
     },
     "execution_count": 68,
     "metadata": {},
     "output_type": "execute_result"
    }
   ],
   "source": [
    "tup_of_nums"
   ]
  },
  {
   "cell_type": "code",
   "execution_count": 69,
   "id": "80e0cdcf",
   "metadata": {},
   "outputs": [
    {
     "data": {
      "text/plain": [
       "3"
      ]
     },
     "execution_count": 69,
     "metadata": {},
     "output_type": "execute_result"
    }
   ],
   "source": [
    "tup_of_nums[2]"
   ]
  },
  {
   "cell_type": "code",
   "execution_count": 70,
   "id": "2ad9673c",
   "metadata": {},
   "outputs": [
    {
     "data": {
      "text/plain": [
       "[1, 2, 3]"
      ]
     },
     "execution_count": 70,
     "metadata": {},
     "output_type": "execute_result"
    }
   ],
   "source": [
    "list(tup_of_nums)"
   ]
  },
  {
   "cell_type": "markdown",
   "id": "e4b33858",
   "metadata": {},
   "source": [
    "# Dictionary"
   ]
  },
  {
   "cell_type": "code",
   "execution_count": 71,
   "id": "bf793805",
   "metadata": {},
   "outputs": [],
   "source": [
    "about_me = {'name' : 'Andrew', 'age': 33}"
   ]
  },
  {
   "cell_type": "code",
   "execution_count": 72,
   "id": "f5c688a1",
   "metadata": {},
   "outputs": [
    {
     "data": {
      "text/plain": [
       "{'name': 'Andrew', 'age': 33}"
      ]
     },
     "execution_count": 72,
     "metadata": {},
     "output_type": "execute_result"
    }
   ],
   "source": [
    "about_me"
   ]
  },
  {
   "cell_type": "code",
   "execution_count": 73,
   "id": "62ae5be2",
   "metadata": {},
   "outputs": [
    {
     "data": {
      "text/plain": [
       "33"
      ]
     },
     "execution_count": 73,
     "metadata": {},
     "output_type": "execute_result"
    }
   ],
   "source": [
    "about_me['age']"
   ]
  },
  {
   "cell_type": "code",
   "execution_count": 74,
   "id": "dc319d29",
   "metadata": {},
   "outputs": [
    {
     "data": {
      "text/plain": [
       "dict_keys(['name', 'age'])"
      ]
     },
     "execution_count": 74,
     "metadata": {},
     "output_type": "execute_result"
    }
   ],
   "source": [
    "about_me.keys()"
   ]
  },
  {
   "cell_type": "code",
   "execution_count": 75,
   "id": "88fe903b",
   "metadata": {},
   "outputs": [],
   "source": [
    "about_me = {'name' : 'Andrew',\n",
    "            'age': 33, \n",
    "            'pets' : {'dogs': 'Bailey', 'fish': 'Walter'}}"
   ]
  },
  {
   "cell_type": "code",
   "execution_count": 77,
   "id": "dc5d0c2c",
   "metadata": {},
   "outputs": [
    {
     "data": {
      "text/plain": [
       "'W'"
      ]
     },
     "execution_count": 77,
     "metadata": {},
     "output_type": "execute_result"
    }
   ],
   "source": [
    "about_me['pets']['fish'][0]"
   ]
  },
  {
   "cell_type": "code",
   "execution_count": 78,
   "id": "57de3d4c",
   "metadata": {},
   "outputs": [
    {
     "data": {
      "text/plain": [
       "34"
      ]
     },
     "execution_count": 78,
     "metadata": {},
     "output_type": "execute_result"
    }
   ],
   "source": [
    "about_me['age'] + 1"
   ]
  },
  {
   "cell_type": "code",
   "execution_count": 83,
   "id": "92a09fbd",
   "metadata": {},
   "outputs": [
    {
     "data": {
      "text/plain": [
       "'Jack'"
      ]
     },
     "execution_count": 83,
     "metadata": {},
     "output_type": "execute_result"
    }
   ],
   "source": [
    "about_me['name']"
   ]
  },
  {
   "cell_type": "code",
   "execution_count": null,
   "id": "e9dab60c",
   "metadata": {},
   "outputs": [],
   "source": []
  }
 ],
 "metadata": {
  "kernelspec": {
   "display_name": "Python 3 (ipykernel)",
   "language": "python",
   "name": "python3"
  },
  "language_info": {
   "codemirror_mode": {
    "name": "ipython",
    "version": 3
   },
   "file_extension": ".py",
   "mimetype": "text/x-python",
   "name": "python",
   "nbconvert_exporter": "python",
   "pygments_lexer": "ipython3",
   "version": "3.9.13"
  }
 },
 "nbformat": 4,
 "nbformat_minor": 5
}
